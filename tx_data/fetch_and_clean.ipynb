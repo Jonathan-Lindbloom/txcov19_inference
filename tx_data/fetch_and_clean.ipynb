{
 "cells": [
  {
   "cell_type": "code",
   "execution_count": 1,
   "metadata": {},
   "outputs": [],
   "source": [
    "import urllib.request\n",
    "import pandas as pd\n",
    "\n",
    "import os\n",
    "import sys"
   ]
  },
  {
   "cell_type": "code",
   "execution_count": 2,
   "metadata": {},
   "outputs": [
    {
     "data": {
      "text/plain": [
       "['.ipynb_checkpoints',\n",
       " 'fetch_and_clean.ipynb',\n",
       " 'PopEstimates.csv',\n",
       " 'raw_vaccination_data.xlsx']"
      ]
     },
     "execution_count": 2,
     "metadata": {},
     "output_type": "execute_result"
    }
   ],
   "source": [
    "os.listdir()"
   ]
  },
  {
   "cell_type": "code",
   "execution_count": 2,
   "metadata": {},
   "outputs": [
    {
     "data": {
      "text/plain": [
       "('raw_vaccination_data.xlsx', <http.client.HTTPMessage at 0x16967c97a90>)"
      ]
     },
     "execution_count": 2,
     "metadata": {},
     "output_type": "execute_result"
    }
   ],
   "source": [
    "# Fetch data\n",
    "url = 'https://www.dshs.texas.gov/immunize/covid19/COVID-19-Vaccine-Data-by-County.xls'\n",
    "urllib.request.urlretrieve(url, 'raw_vaccination_data.xlsx')"
   ]
  },
  {
   "cell_type": "code",
   "execution_count": 3,
   "metadata": {},
   "outputs": [],
   "source": [
    "df = pd.read_excel(\"raw_vaccination_data.xlsx\", sheet_name=\"Data\")"
   ]
  },
  {
   "cell_type": "code",
   "execution_count": 4,
   "metadata": {},
   "outputs": [],
   "source": [
    "pops = pd.read_csv(\"PopEstimates.csv\")"
   ]
  },
  {
   "cell_type": "code",
   "execution_count": 8,
   "metadata": {},
   "outputs": [
    {
     "data": {
      "text/plain": [
       "array(['Texas', 'Anderson', 'Andrews', 'Angelina', 'Aransas', 'Archer',\n",
       "       'Armstrong', 'Atascosa', 'Austin', 'Bailey', 'Bandera', 'Bastrop',\n",
       "       'Baylor', 'Bee', 'Bell', 'Bexar', 'Blanco', 'Borden', 'Bosque',\n",
       "       'Bowie', 'Brazoria', 'Brazos', 'Brewster', 'Briscoe', 'Brooks',\n",
       "       'Brown', 'Burleson', 'Burnet', 'Caldwell', 'Calhoun', 'Callahan',\n",
       "       'Cameron', 'Camp', 'Carson', 'Cass', 'Castro', 'Chambers',\n",
       "       'Cherokee', 'Childress', 'Clay', 'Cochran', 'Coke', 'Coleman',\n",
       "       'Collin', 'Collingsworth', 'Colorado', 'Comal', 'Comanche',\n",
       "       'Concho', 'Cooke', 'Coryell', 'Cottle', 'Crane', 'Crockett',\n",
       "       'Crosby', 'Culberson', 'Dallam', 'Dallas', 'Dawson', 'Deaf Smith',\n",
       "       'Delta', 'Denton', 'DeWitt', 'Dickens', 'Dimmit', 'Donley',\n",
       "       'Duval', 'Eastland', 'Ector', 'Edwards', 'El Paso', 'Ellis',\n",
       "       'Erath', 'Falls', 'Fannin', 'Fayette', 'Fisher', 'Floyd', 'Foard',\n",
       "       'Fort Bend', 'Franklin', 'Freestone', 'Frio', 'Gaines',\n",
       "       'Galveston', 'Garza', 'Gillespie', 'Glasscock', 'Goliad',\n",
       "       'Gonzales', 'Gray', 'Grayson', 'Gregg', 'Grimes', 'Guadalupe',\n",
       "       'Hale', 'Hall', 'Hamilton', 'Hansford', 'Hardeman', 'Hardin',\n",
       "       'Harris', 'Harrison', 'Hartley', 'Haskell', 'Hays', 'Hemphill',\n",
       "       'Henderson', 'Hidalgo', 'Hill', 'Hockley', 'Hood', 'Hopkins',\n",
       "       'Houston', 'Howard', 'Hudspeth', 'Hunt', 'Hutchinson', 'Irion',\n",
       "       'Jack', 'Jackson', 'Jasper', 'Jeff Davis', 'Jefferson', 'Jim Hogg',\n",
       "       'Jim Wells', 'Johnson', 'Jones', 'Karnes', 'Kaufman', 'Kendall',\n",
       "       'Kenedy', 'Kent', 'Kerr', 'Kimble', 'King', 'Kinney', 'Kleberg',\n",
       "       'Knox', 'La Salle', 'Lamar', 'Lamb', 'Lampasas', 'Lavaca', 'Lee',\n",
       "       'Leon', 'Liberty', 'Limestone', 'Lipscomb', 'Live Oak', 'Llano',\n",
       "       'Loving', 'Lubbock', 'Lynn', 'Madison', 'Marion', 'Martin',\n",
       "       'Mason', 'Matagorda', 'Maverick', 'McCulloch', 'McLennan',\n",
       "       'McMullen', 'Medina', 'Menard', 'Midland', 'Milam', 'Mills',\n",
       "       'Mitchell', 'Montague', 'Montgomery', 'Moore', 'Morris', 'Motley',\n",
       "       'Nacogdoches', 'Navarro', 'Newton', 'Nolan', 'Nueces', 'Ochiltree',\n",
       "       'Oldham', 'Orange', 'Palo Pinto', 'Panola', 'Parker', 'Parmer',\n",
       "       'Pecos', 'Polk', 'Potter', 'Presidio', 'Rains', 'Randall',\n",
       "       'Reagan', 'Real', 'Red River', 'Reeves', 'Refugio', 'Roberts',\n",
       "       'Robertson', 'Rockwall', 'Runnels', 'Rusk', 'Sabine',\n",
       "       'San Augustine', 'San Jacinto', 'San Patricio', 'San Saba',\n",
       "       'Schleicher', 'Scurry', 'Shackelford', 'Shelby', 'Sherman',\n",
       "       'Smith', 'Somervell', 'Starr', 'Stephens', 'Sterling', 'Stonewall',\n",
       "       'Sutton', 'Swisher', 'Tarrant', 'Taylor', 'Terrell', 'Terry',\n",
       "       'Throckmorton', 'Titus', 'Tom Green', 'Travis', 'Trinity', 'Tyler',\n",
       "       'Upshur', 'Upton', 'Uvalde', 'Val Verde', 'Van Zandt', 'Victoria',\n",
       "       'Walker', 'Waller', 'Ward', 'Washington', 'Webb', 'Wharton',\n",
       "       'Wheeler', 'Wichita', 'Wilbarger', 'Willacy', 'Williamson',\n",
       "       'Wilson', 'Winkler', 'Wise', 'Wood', 'Yoakum', 'Young', 'Zapata',\n",
       "       'Zavala', nan], dtype=object)"
      ]
     },
     "execution_count": 8,
     "metadata": {},
     "output_type": "execute_result"
    }
   ],
   "source": [
    "df[\"County Name\"].unique()"
   ]
  },
  {
   "cell_type": "code",
   "execution_count": 9,
   "metadata": {},
   "outputs": [],
   "source": [
    "pop_counties = pops[\"area_name\"].unique()"
   ]
  },
  {
   "cell_type": "code",
   "execution_count": 13,
   "metadata": {},
   "outputs": [
    {
     "data": {
      "text/plain": [
       "['Armstrong', '']"
      ]
     },
     "execution_count": 13,
     "metadata": {},
     "output_type": "execute_result"
    }
   ],
   "source": [
    "pop_counties[6].split(\" County\")"
   ]
  },
  {
   "cell_type": "code",
   "execution_count": null,
   "metadata": {},
   "outputs": [],
   "source": []
  },
  {
   "cell_type": "code",
   "execution_count": null,
   "metadata": {},
   "outputs": [],
   "source": []
  },
  {
   "cell_type": "code",
   "execution_count": null,
   "metadata": {},
   "outputs": [],
   "source": []
  },
  {
   "cell_type": "code",
   "execution_count": null,
   "metadata": {},
   "outputs": [],
   "source": []
  },
  {
   "cell_type": "code",
   "execution_count": null,
   "metadata": {},
   "outputs": [],
   "source": []
  },
  {
   "cell_type": "code",
   "execution_count": null,
   "metadata": {},
   "outputs": [],
   "source": []
  },
  {
   "cell_type": "code",
   "execution_count": null,
   "metadata": {},
   "outputs": [],
   "source": []
  }
 ],
 "metadata": {
  "kernelspec": {
   "display_name": "Python 3",
   "language": "python",
   "name": "python3"
  },
  "language_info": {
   "codemirror_mode": {
    "name": "ipython",
    "version": 3
   },
   "file_extension": ".py",
   "mimetype": "text/x-python",
   "name": "python",
   "nbconvert_exporter": "python",
   "pygments_lexer": "ipython3",
   "version": "3.8.3"
  }
 },
 "nbformat": 4,
 "nbformat_minor": 4
}
